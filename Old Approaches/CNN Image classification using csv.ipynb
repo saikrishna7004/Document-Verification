{
 "cells": [
  {
   "cell_type": "code",
   "execution_count": 5,
   "id": "8afe1d02",
   "metadata": {},
   "outputs": [],
   "source": [
    "import numpy as np\n",
    "import pandas as pd\n",
    "import tensorflow\n",
    "from tensorflow.keras.layers import Conv2D,Flatten,Dense,MaxPool2D,Input\n",
    "from tensorflow.keras.models import Model,Sequential\n",
    "import matplotlib.pyplot as plt\n",
    "import cv2\n",
    "from PIL import Image\n",
    "from sklearn.model_selection import train_test_split\n",
    "import io\n",
    "import os\n",
    "from tensorflow.keras.preprocessing.image import img_to_array,load_img\n",
    "# from tensorflow.keras.applications import VGG16\n",
    "from tensorflow.keras.optimizers import Adam\n",
    "from tensorflow.keras.callbacks import EarlyStopping, ModelCheckpoint,ReduceLROnPlateau\n",
    "from tensorflow.keras.models import load_model\n",
    "import random\n",
    "import imutils\n",
    "\n",
    "import warnings\n",
    "warnings.filterwarnings('ignore')"
   ]
  },
  {
   "cell_type": "code",
   "execution_count": 6,
   "id": "14ccb94c",
   "metadata": {},
   "outputs": [
    {
     "ename": "FileNotFoundError",
     "evalue": "[Errno 2] No such file or directory: 'D:\\\\Project School\\\\PS3\\\\big_data.v1i.multiclass\\\\sample.csv'",
     "output_type": "error",
     "traceback": [
      "\u001b[1;31m---------------------------------------------------------------------------\u001b[0m",
      "\u001b[1;31mFileNotFoundError\u001b[0m                         Traceback (most recent call last)",
      "\u001b[1;32mc:\\Users\\Karnati Sai Krishna\\Downloads\\CNN Image classification using csv.ipynb Cell 2\u001b[0m line \u001b[0;36m<cell line: 1>\u001b[1;34m()\u001b[0m\n\u001b[1;32m----> <a href='vscode-notebook-cell:/c%3A/Users/Karnati%20Sai%20Krishna/Downloads/CNN%20Image%20classification%20using%20csv.ipynb#W3sZmlsZQ%3D%3D?line=0'>1</a>\u001b[0m file\u001b[39m=\u001b[39mpd\u001b[39m.\u001b[39;49mread_csv(\u001b[39mr\u001b[39;49m\u001b[39m'\u001b[39;49m\u001b[39mD:\u001b[39;49m\u001b[39m\\\u001b[39;49m\u001b[39mProject School\u001b[39;49m\u001b[39m\\\u001b[39;49m\u001b[39mPS3\u001b[39;49m\u001b[39m\\\u001b[39;49m\u001b[39mbig_data.v1i.multiclass\u001b[39;49m\u001b[39m\\\u001b[39;49m\u001b[39msample.csv\u001b[39;49m\u001b[39m'\u001b[39;49m)\n\u001b[0;32m      <a href='vscode-notebook-cell:/c%3A/Users/Karnati%20Sai%20Krishna/Downloads/CNN%20Image%20classification%20using%20csv.ipynb#W3sZmlsZQ%3D%3D?line=1'>2</a>\u001b[0m \u001b[39mprint\u001b[39m(file)\n",
      "File \u001b[1;32m~\\AppData\\Local\\Packages\\PythonSoftwareFoundation.Python.3.8_qbz5n2kfra8p0\\LocalCache\\local-packages\\Python38\\site-packages\\pandas\\util\\_decorators.py:311\u001b[0m, in \u001b[0;36mdeprecate_nonkeyword_arguments.<locals>.decorate.<locals>.wrapper\u001b[1;34m(*args, **kwargs)\u001b[0m\n\u001b[0;32m    305\u001b[0m \u001b[39mif\u001b[39;00m \u001b[39mlen\u001b[39m(args) \u001b[39m>\u001b[39m num_allow_args:\n\u001b[0;32m    306\u001b[0m     warnings\u001b[39m.\u001b[39mwarn(\n\u001b[0;32m    307\u001b[0m         msg\u001b[39m.\u001b[39mformat(arguments\u001b[39m=\u001b[39marguments),\n\u001b[0;32m    308\u001b[0m         \u001b[39mFutureWarning\u001b[39;00m,\n\u001b[0;32m    309\u001b[0m         stacklevel\u001b[39m=\u001b[39mstacklevel,\n\u001b[0;32m    310\u001b[0m     )\n\u001b[1;32m--> 311\u001b[0m \u001b[39mreturn\u001b[39;00m func(\u001b[39m*\u001b[39;49margs, \u001b[39m*\u001b[39;49m\u001b[39m*\u001b[39;49mkwargs)\n",
      "File \u001b[1;32m~\\AppData\\Local\\Packages\\PythonSoftwareFoundation.Python.3.8_qbz5n2kfra8p0\\LocalCache\\local-packages\\Python38\\site-packages\\pandas\\io\\parsers\\readers.py:680\u001b[0m, in \u001b[0;36mread_csv\u001b[1;34m(filepath_or_buffer, sep, delimiter, header, names, index_col, usecols, squeeze, prefix, mangle_dupe_cols, dtype, engine, converters, true_values, false_values, skipinitialspace, skiprows, skipfooter, nrows, na_values, keep_default_na, na_filter, verbose, skip_blank_lines, parse_dates, infer_datetime_format, keep_date_col, date_parser, dayfirst, cache_dates, iterator, chunksize, compression, thousands, decimal, lineterminator, quotechar, quoting, doublequote, escapechar, comment, encoding, encoding_errors, dialect, error_bad_lines, warn_bad_lines, on_bad_lines, delim_whitespace, low_memory, memory_map, float_precision, storage_options)\u001b[0m\n\u001b[0;32m    665\u001b[0m kwds_defaults \u001b[39m=\u001b[39m _refine_defaults_read(\n\u001b[0;32m    666\u001b[0m     dialect,\n\u001b[0;32m    667\u001b[0m     delimiter,\n\u001b[1;32m   (...)\u001b[0m\n\u001b[0;32m    676\u001b[0m     defaults\u001b[39m=\u001b[39m{\u001b[39m\"\u001b[39m\u001b[39mdelimiter\u001b[39m\u001b[39m\"\u001b[39m: \u001b[39m\"\u001b[39m\u001b[39m,\u001b[39m\u001b[39m\"\u001b[39m},\n\u001b[0;32m    677\u001b[0m )\n\u001b[0;32m    678\u001b[0m kwds\u001b[39m.\u001b[39mupdate(kwds_defaults)\n\u001b[1;32m--> 680\u001b[0m \u001b[39mreturn\u001b[39;00m _read(filepath_or_buffer, kwds)\n",
      "File \u001b[1;32m~\\AppData\\Local\\Packages\\PythonSoftwareFoundation.Python.3.8_qbz5n2kfra8p0\\LocalCache\\local-packages\\Python38\\site-packages\\pandas\\io\\parsers\\readers.py:575\u001b[0m, in \u001b[0;36m_read\u001b[1;34m(filepath_or_buffer, kwds)\u001b[0m\n\u001b[0;32m    572\u001b[0m _validate_names(kwds\u001b[39m.\u001b[39mget(\u001b[39m\"\u001b[39m\u001b[39mnames\u001b[39m\u001b[39m\"\u001b[39m, \u001b[39mNone\u001b[39;00m))\n\u001b[0;32m    574\u001b[0m \u001b[39m# Create the parser.\u001b[39;00m\n\u001b[1;32m--> 575\u001b[0m parser \u001b[39m=\u001b[39m TextFileReader(filepath_or_buffer, \u001b[39m*\u001b[39;49m\u001b[39m*\u001b[39;49mkwds)\n\u001b[0;32m    577\u001b[0m \u001b[39mif\u001b[39;00m chunksize \u001b[39mor\u001b[39;00m iterator:\n\u001b[0;32m    578\u001b[0m     \u001b[39mreturn\u001b[39;00m parser\n",
      "File \u001b[1;32m~\\AppData\\Local\\Packages\\PythonSoftwareFoundation.Python.3.8_qbz5n2kfra8p0\\LocalCache\\local-packages\\Python38\\site-packages\\pandas\\io\\parsers\\readers.py:933\u001b[0m, in \u001b[0;36mTextFileReader.__init__\u001b[1;34m(self, f, engine, **kwds)\u001b[0m\n\u001b[0;32m    930\u001b[0m     \u001b[39mself\u001b[39m\u001b[39m.\u001b[39moptions[\u001b[39m\"\u001b[39m\u001b[39mhas_index_names\u001b[39m\u001b[39m\"\u001b[39m] \u001b[39m=\u001b[39m kwds[\u001b[39m\"\u001b[39m\u001b[39mhas_index_names\u001b[39m\u001b[39m\"\u001b[39m]\n\u001b[0;32m    932\u001b[0m \u001b[39mself\u001b[39m\u001b[39m.\u001b[39mhandles: IOHandles \u001b[39m|\u001b[39m \u001b[39mNone\u001b[39;00m \u001b[39m=\u001b[39m \u001b[39mNone\u001b[39;00m\n\u001b[1;32m--> 933\u001b[0m \u001b[39mself\u001b[39m\u001b[39m.\u001b[39m_engine \u001b[39m=\u001b[39m \u001b[39mself\u001b[39;49m\u001b[39m.\u001b[39;49m_make_engine(f, \u001b[39mself\u001b[39;49m\u001b[39m.\u001b[39;49mengine)\n",
      "File \u001b[1;32m~\\AppData\\Local\\Packages\\PythonSoftwareFoundation.Python.3.8_qbz5n2kfra8p0\\LocalCache\\local-packages\\Python38\\site-packages\\pandas\\io\\parsers\\readers.py:1217\u001b[0m, in \u001b[0;36mTextFileReader._make_engine\u001b[1;34m(self, f, engine)\u001b[0m\n\u001b[0;32m   1213\u001b[0m     mode \u001b[39m=\u001b[39m \u001b[39m\"\u001b[39m\u001b[39mrb\u001b[39m\u001b[39m\"\u001b[39m\n\u001b[0;32m   1214\u001b[0m \u001b[39m# error: No overload variant of \"get_handle\" matches argument types\u001b[39;00m\n\u001b[0;32m   1215\u001b[0m \u001b[39m# \"Union[str, PathLike[str], ReadCsvBuffer[bytes], ReadCsvBuffer[str]]\"\u001b[39;00m\n\u001b[0;32m   1216\u001b[0m \u001b[39m# , \"str\", \"bool\", \"Any\", \"Any\", \"Any\", \"Any\", \"Any\"\u001b[39;00m\n\u001b[1;32m-> 1217\u001b[0m \u001b[39mself\u001b[39m\u001b[39m.\u001b[39mhandles \u001b[39m=\u001b[39m get_handle(  \u001b[39m# type: ignore[call-overload]\u001b[39;49;00m\n\u001b[0;32m   1218\u001b[0m     f,\n\u001b[0;32m   1219\u001b[0m     mode,\n\u001b[0;32m   1220\u001b[0m     encoding\u001b[39m=\u001b[39;49m\u001b[39mself\u001b[39;49m\u001b[39m.\u001b[39;49moptions\u001b[39m.\u001b[39;49mget(\u001b[39m\"\u001b[39;49m\u001b[39mencoding\u001b[39;49m\u001b[39m\"\u001b[39;49m, \u001b[39mNone\u001b[39;49;00m),\n\u001b[0;32m   1221\u001b[0m     compression\u001b[39m=\u001b[39;49m\u001b[39mself\u001b[39;49m\u001b[39m.\u001b[39;49moptions\u001b[39m.\u001b[39;49mget(\u001b[39m\"\u001b[39;49m\u001b[39mcompression\u001b[39;49m\u001b[39m\"\u001b[39;49m, \u001b[39mNone\u001b[39;49;00m),\n\u001b[0;32m   1222\u001b[0m     memory_map\u001b[39m=\u001b[39;49m\u001b[39mself\u001b[39;49m\u001b[39m.\u001b[39;49moptions\u001b[39m.\u001b[39;49mget(\u001b[39m\"\u001b[39;49m\u001b[39mmemory_map\u001b[39;49m\u001b[39m\"\u001b[39;49m, \u001b[39mFalse\u001b[39;49;00m),\n\u001b[0;32m   1223\u001b[0m     is_text\u001b[39m=\u001b[39;49mis_text,\n\u001b[0;32m   1224\u001b[0m     errors\u001b[39m=\u001b[39;49m\u001b[39mself\u001b[39;49m\u001b[39m.\u001b[39;49moptions\u001b[39m.\u001b[39;49mget(\u001b[39m\"\u001b[39;49m\u001b[39mencoding_errors\u001b[39;49m\u001b[39m\"\u001b[39;49m, \u001b[39m\"\u001b[39;49m\u001b[39mstrict\u001b[39;49m\u001b[39m\"\u001b[39;49m),\n\u001b[0;32m   1225\u001b[0m     storage_options\u001b[39m=\u001b[39;49m\u001b[39mself\u001b[39;49m\u001b[39m.\u001b[39;49moptions\u001b[39m.\u001b[39;49mget(\u001b[39m\"\u001b[39;49m\u001b[39mstorage_options\u001b[39;49m\u001b[39m\"\u001b[39;49m, \u001b[39mNone\u001b[39;49;00m),\n\u001b[0;32m   1226\u001b[0m )\n\u001b[0;32m   1227\u001b[0m \u001b[39massert\u001b[39;00m \u001b[39mself\u001b[39m\u001b[39m.\u001b[39mhandles \u001b[39mis\u001b[39;00m \u001b[39mnot\u001b[39;00m \u001b[39mNone\u001b[39;00m\n\u001b[0;32m   1228\u001b[0m f \u001b[39m=\u001b[39m \u001b[39mself\u001b[39m\u001b[39m.\u001b[39mhandles\u001b[39m.\u001b[39mhandle\n",
      "File \u001b[1;32m~\\AppData\\Local\\Packages\\PythonSoftwareFoundation.Python.3.8_qbz5n2kfra8p0\\LocalCache\\local-packages\\Python38\\site-packages\\pandas\\io\\common.py:789\u001b[0m, in \u001b[0;36mget_handle\u001b[1;34m(path_or_buf, mode, encoding, compression, memory_map, is_text, errors, storage_options)\u001b[0m\n\u001b[0;32m    784\u001b[0m \u001b[39melif\u001b[39;00m \u001b[39misinstance\u001b[39m(handle, \u001b[39mstr\u001b[39m):\n\u001b[0;32m    785\u001b[0m     \u001b[39m# Check whether the filename is to be opened in binary mode.\u001b[39;00m\n\u001b[0;32m    786\u001b[0m     \u001b[39m# Binary mode does not support 'encoding' and 'newline'.\u001b[39;00m\n\u001b[0;32m    787\u001b[0m     \u001b[39mif\u001b[39;00m ioargs\u001b[39m.\u001b[39mencoding \u001b[39mand\u001b[39;00m \u001b[39m\"\u001b[39m\u001b[39mb\u001b[39m\u001b[39m\"\u001b[39m \u001b[39mnot\u001b[39;00m \u001b[39min\u001b[39;00m ioargs\u001b[39m.\u001b[39mmode:\n\u001b[0;32m    788\u001b[0m         \u001b[39m# Encoding\u001b[39;00m\n\u001b[1;32m--> 789\u001b[0m         handle \u001b[39m=\u001b[39m \u001b[39mopen\u001b[39;49m(\n\u001b[0;32m    790\u001b[0m             handle,\n\u001b[0;32m    791\u001b[0m             ioargs\u001b[39m.\u001b[39;49mmode,\n\u001b[0;32m    792\u001b[0m             encoding\u001b[39m=\u001b[39;49mioargs\u001b[39m.\u001b[39;49mencoding,\n\u001b[0;32m    793\u001b[0m             errors\u001b[39m=\u001b[39;49merrors,\n\u001b[0;32m    794\u001b[0m             newline\u001b[39m=\u001b[39;49m\u001b[39m\"\u001b[39;49m\u001b[39m\"\u001b[39;49m,\n\u001b[0;32m    795\u001b[0m         )\n\u001b[0;32m    796\u001b[0m     \u001b[39melse\u001b[39;00m:\n\u001b[0;32m    797\u001b[0m         \u001b[39m# Binary mode\u001b[39;00m\n\u001b[0;32m    798\u001b[0m         handle \u001b[39m=\u001b[39m \u001b[39mopen\u001b[39m(handle, ioargs\u001b[39m.\u001b[39mmode)\n",
      "\u001b[1;31mFileNotFoundError\u001b[0m: [Errno 2] No such file or directory: 'D:\\\\Project School\\\\PS3\\\\big_data.v1i.multiclass\\\\sample.csv'"
     ]
    }
   ],
   "source": [
    "file=pd.read_csv(r\"C:\\Users\\Karnati Sai Krishna\\Downloads\\big_data.v1i.multiclass\\train\\sample.csv\")\n",
    "print(file)"
   ]
  },
  {
   "cell_type": "code",
   "execution_count": null,
   "id": "2750a6c5",
   "metadata": {},
   "outputs": [
    {
     "data": {
      "text/html": [
       "<div>\n",
       "<style scoped>\n",
       "    .dataframe tbody tr th:only-of-type {\n",
       "        vertical-align: middle;\n",
       "    }\n",
       "\n",
       "    .dataframe tbody tr th {\n",
       "        vertical-align: top;\n",
       "    }\n",
       "\n",
       "    .dataframe thead th {\n",
       "        text-align: right;\n",
       "    }\n",
       "</style>\n",
       "<table border=\"1\" class=\"dataframe\">\n",
       "  <thead>\n",
       "    <tr style=\"text-align: right;\">\n",
       "      <th></th>\n",
       "      <th>ImageID</th>\n",
       "      <th>LabelName</th>\n",
       "      <th>Confidence</th>\n",
       "      <th>XMin</th>\n",
       "      <th>YMin</th>\n",
       "      <th>XMax</th>\n",
       "      <th>YMax</th>\n",
       "    </tr>\n",
       "  </thead>\n",
       "  <tbody>\n",
       "    <tr>\n",
       "      <th>0</th>\n",
       "      <td>0c0584201ff552c4bdcbe160315aa432_jpg.rf.913795...</td>\n",
       "      <td>lions</td>\n",
       "      <td>1</td>\n",
       "      <td>40</td>\n",
       "      <td>20</td>\n",
       "      <td>88</td>\n",
       "      <td>102</td>\n",
       "    </tr>\n",
       "    <tr>\n",
       "      <th>1</th>\n",
       "      <td>0c0584201ff552c4bdcbe160315aa432_jpg.rf.913795...</td>\n",
       "      <td>aadharno</td>\n",
       "      <td>1</td>\n",
       "      <td>167</td>\n",
       "      <td>327</td>\n",
       "      <td>277</td>\n",
       "      <td>348</td>\n",
       "    </tr>\n",
       "    <tr>\n",
       "      <th>2</th>\n",
       "      <td>0c0584201ff552c4bdcbe160315aa432_jpg.rf.913795...</td>\n",
       "      <td>govt</td>\n",
       "      <td>1</td>\n",
       "      <td>111</td>\n",
       "      <td>24</td>\n",
       "      <td>358</td>\n",
       "      <td>104</td>\n",
       "    </tr>\n",
       "    <tr>\n",
       "      <th>3</th>\n",
       "      <td>0c0584201ff552c4bdcbe160315aa432_jpg.rf.913795...</td>\n",
       "      <td>aadharph</td>\n",
       "      <td>1</td>\n",
       "      <td>36</td>\n",
       "      <td>108</td>\n",
       "      <td>152</td>\n",
       "      <td>290</td>\n",
       "    </tr>\n",
       "    <tr>\n",
       "      <th>4</th>\n",
       "      <td>0c0584201ff552c4bdcbe160315aa432_jpg.rf.913795...</td>\n",
       "      <td>Name</td>\n",
       "      <td>1</td>\n",
       "      <td>149</td>\n",
       "      <td>147</td>\n",
       "      <td>290</td>\n",
       "      <td>175</td>\n",
       "    </tr>\n",
       "  </tbody>\n",
       "</table>\n",
       "</div>"
      ],
      "text/plain": [
       "                                             ImageID LabelName  Confidence  \\\n",
       "0  0c0584201ff552c4bdcbe160315aa432_jpg.rf.913795...     lions           1   \n",
       "1  0c0584201ff552c4bdcbe160315aa432_jpg.rf.913795...  aadharno           1   \n",
       "2  0c0584201ff552c4bdcbe160315aa432_jpg.rf.913795...      govt           1   \n",
       "3  0c0584201ff552c4bdcbe160315aa432_jpg.rf.913795...  aadharph           1   \n",
       "4  0c0584201ff552c4bdcbe160315aa432_jpg.rf.913795...      Name           1   \n",
       "\n",
       "   XMin  YMin  XMax  YMax  \n",
       "0    40    20    88   102  \n",
       "1   167   327   277   348  \n",
       "2   111    24   358   104  \n",
       "3    36   108   152   290  \n",
       "4   149   147   290   175  "
      ]
     },
     "execution_count": 3,
     "metadata": {},
     "output_type": "execute_result"
    }
   ],
   "source": [
    "file.head()"
   ]
  },
  {
   "cell_type": "code",
   "execution_count": null,
   "id": "ae8ed87d",
   "metadata": {},
   "outputs": [],
   "source": [
    "data=[]\n",
    "target=[]\n",
    "filename=[]\n",
    "images_folder_path=r\"D:\\Project School\\PS3\\big_data.v1i.multiclass\\train\""
   ]
  },
  {
   "cell_type": "code",
   "execution_count": null,
   "id": "811a35fd",
   "metadata": {
    "scrolled": true
   },
   "outputs": [
    {
     "name": "stdout",
     "output_type": "stream",
     "text": [
      "0 ImageID       0c0584201ff552c4bdcbe160315aa432_jpg.rf.913795...\n",
      "LabelName                                                 lions\n",
      "Confidence                                                    1\n",
      "XMin                                                         40\n",
      "YMin                                                         20\n",
      "XMax                                                         88\n",
      "YMax                                                        102\n",
      "Name: 0, dtype: object\n",
      "1 ImageID       0c0584201ff552c4bdcbe160315aa432_jpg.rf.913795...\n",
      "LabelName                                              aadharno\n",
      "Confidence                                                    1\n",
      "XMin                                                        167\n",
      "YMin                                                        327\n",
      "XMax                                                        277\n",
      "YMax                                                        348\n",
      "Name: 1, dtype: object\n",
      "2 ImageID       0c0584201ff552c4bdcbe160315aa432_jpg.rf.913795...\n",
      "LabelName                                                  govt\n",
      "Confidence                                                    1\n",
      "XMin                                                        111\n",
      "YMin                                                         24\n",
      "XMax                                                        358\n",
      "YMax                                                        104\n",
      "Name: 2, dtype: object\n",
      "3 ImageID       0c0584201ff552c4bdcbe160315aa432_jpg.rf.913795...\n",
      "LabelName                                              aadharph\n",
      "Confidence                                                    1\n",
      "XMin                                                         36\n",
      "YMin                                                        108\n",
      "XMax                                                        152\n",
      "YMax                                                        290\n",
      "Name: 3, dtype: object\n",
      "4 ImageID       0c0584201ff552c4bdcbe160315aa432_jpg.rf.913795...\n",
      "LabelName                                                  Name\n",
      "Confidence                                                    1\n",
      "XMin                                                        149\n",
      "YMin                                                        147\n",
      "XMax                                                        290\n",
      "YMax                                                        175\n",
      "Name: 4, dtype: object\n",
      "5 ImageID       0c0584201ff552c4bdcbe160315aa432_jpg.rf.913795...\n",
      "LabelName                                                   DOB\n",
      "Confidence                                                    1\n",
      "XMin                                                        147\n",
      "YMin                                                        180\n",
      "XMax                                                        260\n",
      "YMax                                                        201\n",
      "Name: 5, dtype: object\n",
      "6 ImageID       0c0584201ff552c4bdcbe160315aa432_jpg.rf.913795...\n",
      "LabelName                                                gender\n",
      "Confidence                                                    1\n",
      "XMin                                                        148\n",
      "YMin                                                        206\n",
      "XMax                                                        245\n",
      "YMax                                                        231\n",
      "Name: 6, dtype: object\n",
      "7 ImageID       0c0584201ff552c4bdcbe160315aa432_jpg.rf.913795...\n",
      "LabelName                                                    qr\n",
      "Confidence                                                    1\n",
      "XMin                                                        313\n",
      "YMin                                                        201\n",
      "XMax                                                        399\n",
      "YMax                                                        320\n",
      "Name: 7, dtype: object\n"
     ]
    }
   ],
   "source": [
    "for index,rows in file.iterrows():\n",
    "    print(index, rows)\n",
    "    filen,start_x,start_y,end_x,end_y,label=fr'\\{rows[\"ImageID\"]}.jpg',rows[\"XMin\"],rows[\"YMin\"],rows[\"XMax\"],rows[\"YMax\"],rows['LabelName']\n",
    "  \n",
    "    filename.append(filen)\n",
    "\n",
    "    image_path=images_folder_path+filen\n",
    "#     print(image_path)\n",
    "    image=cv2.imread(image_path)\n",
    "#     print(image.shape)    \n",
    "    h,w,_=image.shape\n",
    "#     assert not isinstance(image,type(None)), 'image not found'\n",
    "\n",
    "    start_x=start_x/w\n",
    "    start_y=start_y/h\n",
    "    end_x=end_x/w\n",
    "    end_y=end_y/h\n",
    "\n",
    "    image=load_img(image_path,target_size=(224,224))\n",
    "    image=img_to_array(image)\n",
    "\n",
    "    data.append(image)\n",
    "    target.append((start_x,start_y,end_x,end_y))"
   ]
  },
  {
   "cell_type": "code",
   "execution_count": null,
   "id": "9a9552f2",
   "metadata": {},
   "outputs": [],
   "source": [
    "data=np.array(data,dtype=\"float32\")/255.0\n",
    "targets=np.array(target,dtype=\"float32\")\n",
    "\n",
    "\n",
    "train_images,validation_images,train_targets,validation_targets=train_test_split(data,targets,test_size=0.1,random_state=2022)"
   ]
  },
  {
   "cell_type": "code",
   "execution_count": null,
   "id": "68df6f24",
   "metadata": {},
   "outputs": [],
   "source": [
    "checkpoint_filepath = 'best_weights.hdf5'\n",
    "\n",
    "earlyStop = EarlyStopping(monitor='val_accuracy', patience=15, \n",
    "                        verbose=1, mode='max',restore_best_weights=True)\n",
    "\n",
    "checkpoint = ModelCheckpoint(filepath=checkpoint_filepath, \n",
    "                                      save_weights_only=False, \n",
    "                                      monitor='val_accuracy',\n",
    "                                      mode='max', \n",
    "                                      save_best_only=True)\n",
    "learningrate = ReduceLROnPlateau(monitor='val_accuracy',\n",
    "                                          mode='max',\n",
    "                                          min_delta=0.03, patience=3, \n",
    "                                          factor=.5,\n",
    "                                          min_lr=0.00001, verbose=1)\n",
    "\n",
    "callbacks = [earlyStop, checkpoint, learningrate]"
   ]
  },
  {
   "cell_type": "code",
   "execution_count": null,
   "id": "6b1eadd9",
   "metadata": {},
   "outputs": [
    {
     "name": "stdout",
     "output_type": "stream",
     "text": [
      "Model: \"sequential\"\n",
      "_________________________________________________________________\n",
      " Layer (type)                Output Shape              Param #   \n",
      "=================================================================\n",
      " conv2d (Conv2D)             (None, 224, 224, 64)      1792      \n",
      "                                                                 \n",
      " conv2d_1 (Conv2D)           (None, 224, 224, 64)      36928     \n",
      "                                                                 \n",
      " max_pooling2d (MaxPooling2  (None, 112, 112, 64)      0         \n",
      " D)                                                              \n",
      "                                                                 \n",
      " conv2d_2 (Conv2D)           (None, 112, 112, 128)     73856     \n",
      "                                                                 \n",
      " conv2d_3 (Conv2D)           (None, 112, 112, 128)     147584    \n",
      "                                                                 \n",
      " max_pooling2d_1 (MaxPoolin  (None, 56, 56, 128)       0         \n",
      " g2D)                                                            \n",
      "                                                                 \n",
      " conv2d_4 (Conv2D)           (None, 56, 56, 256)       295168    \n",
      "                                                                 \n",
      " conv2d_5 (Conv2D)           (None, 56, 56, 256)       590080    \n",
      "                                                                 \n",
      " max_pooling2d_2 (MaxPoolin  (None, 28, 28, 256)       0         \n",
      " g2D)                                                            \n",
      "                                                                 \n",
      " conv2d_6 (Conv2D)           (None, 28, 28, 512)       1180160   \n",
      "                                                                 \n",
      " conv2d_7 (Conv2D)           (None, 28, 28, 512)       2359808   \n",
      "                                                                 \n",
      " flatten (Flatten)           (None, 401408)            0         \n",
      "                                                                 \n",
      " dense (Dense)               (None, 256)               102760704 \n",
      "                                                                 \n",
      " dense_1 (Dense)             (None, 128)               32896     \n",
      "                                                                 \n",
      " dense_2 (Dense)             (None, 64)                8256      \n",
      "                                                                 \n",
      " dense_3 (Dense)             (None, 32)                2080      \n",
      "                                                                 \n",
      " dense_4 (Dense)             (None, 4)                 132       \n",
      "                                                                 \n",
      "=================================================================\n",
      "Total params: 107489444 (410.04 MB)\n",
      "Trainable params: 107489444 (410.04 MB)\n",
      "Non-trainable params: 0 (0.00 Byte)\n",
      "_________________________________________________________________\n",
      "None\n"
     ]
    }
   ],
   "source": [
    "model=Sequential()\n",
    "model.add(Conv2D(64,(3,3),activation=\"relu\",padding=\"same\",input_shape=(224,224,3)))\n",
    "model.add(Conv2D(64,(3,3),activation=\"relu\",padding=\"same\"))\n",
    "model.add(MaxPool2D(2,2))\n",
    "model.add(Conv2D(128,(3,3),activation=\"relu\",padding=\"same\"))\n",
    "model.add(Conv2D(128,(3,3),activation=\"relu\",padding=\"same\"))\n",
    "model.add(MaxPool2D(2,2))\n",
    "model.add(Conv2D(256,(3,3),activation=\"relu\",padding=\"same\"))\n",
    "model.add(Conv2D(256,(3,3),activation=\"relu\",padding=\"same\"))\n",
    "model.add(MaxPool2D(2,2))\n",
    "model.add(Conv2D(512,(3,3),activation=\"relu\",padding=\"same\"))\n",
    "model.add(Conv2D(512,(3,3),activation=\"relu\",padding=\"same\"))\n",
    "model.add(Flatten())\n",
    "model.add(Dense(256,activation=\"relu\"))\n",
    "model.add(Dense(128,activation=\"relu\"))\n",
    "model.add(Dense(64,activation=\"relu\"))\n",
    "model.add(Dense(32,activation=\"relu\"))\n",
    "model.add(Dense(4,activation=\"sigmoid\"))\n",
    "\n",
    "\n",
    "opt=Adam(learning_rate=0.0001)\n",
    "model.compile(loss=\"mse\",optimizer=opt, metrics=['accuracy'])\n",
    "\n",
    "print(model.summary())"
   ]
  },
  {
   "cell_type": "code",
   "execution_count": null,
   "id": "ade04e9f",
   "metadata": {},
   "outputs": [
    {
     "name": "stdout",
     "output_type": "stream",
     "text": [
      "Epoch 1/5\n",
      "1/1 [==============================] - 11s 11s/step - loss: 0.0550 - accuracy: 0.5714 - val_loss: 0.1048 - val_accuracy: 1.0000 - lr: 1.0000e-04\n",
      "Epoch 2/5\n",
      "1/1 [==============================] - 3s 3s/step - loss: 0.0539 - accuracy: 0.5714 - val_loss: 0.0914 - val_accuracy: 1.0000 - lr: 1.0000e-04\n",
      "Epoch 3/5\n",
      "1/1 [==============================] - 3s 3s/step - loss: 0.0505 - accuracy: 0.5714 - val_loss: 0.0683 - val_accuracy: 1.0000 - lr: 1.0000e-04\n",
      "Epoch 4/5\n",
      "1/1 [==============================] - ETA: 0s - loss: 0.0460 - accuracy: 0.5714\n",
      "Epoch 4: ReduceLROnPlateau reducing learning rate to 4.999999873689376e-05.\n",
      "1/1 [==============================] - 3s 3s/step - loss: 0.0460 - accuracy: 0.5714 - val_loss: 0.0546 - val_accuracy: 1.0000 - lr: 1.0000e-04\n",
      "Epoch 5/5\n",
      "1/1 [==============================] - 3s 3s/step - loss: 0.0480 - accuracy: 0.5714 - val_loss: 0.0679 - val_accuracy: 1.0000 - lr: 5.0000e-05\n"
     ]
    },
    {
     "data": {
      "text/plain": [
       "<keras.src.callbacks.History at 0x22d3676e230>"
      ]
     },
     "execution_count": 9,
     "metadata": {},
     "output_type": "execute_result"
    }
   ],
   "source": [
    "model.fit(train_images,train_targets,validation_data=(validation_images,validation_targets),batch_size=16,epochs=5,callbacks=callbacks,verbose=1)\n"
   ]
  },
  {
   "cell_type": "code",
   "execution_count": null,
   "id": "0f3e10a1",
   "metadata": {},
   "outputs": [],
   "source": [
    "model.save('object_detect.hdf5')"
   ]
  },
  {
   "cell_type": "code",
   "execution_count": null,
   "id": "74221db8",
   "metadata": {},
   "outputs": [],
   "source": [
    "model = load_model('./best_weights.hdf5')"
   ]
  },
  {
   "cell_type": "code",
   "execution_count": null,
   "id": "f49d0c09",
   "metadata": {},
   "outputs": [
    {
     "name": "stdout",
     "output_type": "stream",
     "text": [
      "Train data localization: 8\n"
     ]
    }
   ],
   "source": [
    "print('Train data localization:',len(file))"
   ]
  },
  {
   "cell_type": "code",
   "execution_count": null,
   "id": "557ed275",
   "metadata": {},
   "outputs": [
    {
     "data": {
      "text/plain": [
       "<matplotlib.image.AxesImage at 0x22d378a3c10>"
      ]
     },
     "execution_count": 13,
     "metadata": {},
     "output_type": "execute_result"
    },
    {
     "data": {
      "text/plain": [
       "<Figure size 432x288 with 0 Axes>"
      ]
     },
     "metadata": {},
     "output_type": "display_data"
    },
    {
     "data": {
      "text/plain": [
       "<Figure size 432x288 with 0 Axes>"
      ]
     },
     "metadata": {},
     "output_type": "display_data"
    },
    {
     "data": {
      "text/plain": [
       "<Figure size 432x288 with 0 Axes>"
      ]
     },
     "metadata": {},
     "output_type": "display_data"
    },
    {
     "data": {
      "text/plain": [
       "<Figure size 432x288 with 0 Axes>"
      ]
     },
     "metadata": {},
     "output_type": "display_data"
    },
    {
     "data": {
      "text/plain": [
       "<Figure size 432x288 with 0 Axes>"
      ]
     },
     "metadata": {},
     "output_type": "display_data"
    },
    {
     "data": {
      "text/plain": [
       "<Figure size 432x288 with 0 Axes>"
      ]
     },
     "metadata": {},
     "output_type": "display_data"
    },
    {
     "data": {
      "text/plain": [
       "<Figure size 432x288 with 0 Axes>"
      ]
     },
     "metadata": {},
     "output_type": "display_data"
    },
    {
     "data": {
      "image/png": "[encoded data removed]",
      "text/plain": [
       "<Figure size 432x288 with 1 Axes>"
      ]
     },
     "metadata": {
      "needs_background": "light"
     },
     "output_type": "display_data"
    }
   ],
   "source": [
    "photo=plt.imread(fr'D:\\Project School\\PS3\\big_data.v1i.multiclass\\train\\{file.values[0][0]}.jpg')\n",
    "# plt.imshow(photo)\n",
    "#   print('Photo shape:',photo.shape)\n",
    "#   print('Name, LabelName, xmin, xmax, ymin, ymax:',i)\n",
    "for i in file.values:\n",
    "  pt1=(int(i[3]),int(i[4]))\n",
    "  pt2=(int(i[5]),int(i[6]))\n",
    "  color=(255, 0, 0)\n",
    "  thickness = 2\n",
    "  cv2.rectangle(photo,pt1,pt2, color, thickness)\n",
    "  label = str(i[1])  # Replace with the column name containing labels or names\n",
    "  cv2.putText(photo, label, (pt1[0], pt1[1] + 10), cv2.FONT_HERSHEY_SIMPLEX, 0.5, (0, 0, 255), 2)\n",
    "  plt.figure()\n",
    "plt.imshow(photo)\n",
    "  "
   ]
  },
  {
   "cell_type": "code",
   "execution_count": null,
   "id": "865a91d2",
   "metadata": {},
   "outputs": [],
   "source": []
  }
 ],
 "metadata": {
  "kernelspec": {
   "display_name": "Python 3 (ipykernel)",
   "language": "python",
   "name": "python3"
  },
  "language_info": {
   "codemirror_mode": {
    "name": "ipython",
    "version": 3
   },
   "file_extension": ".py",
   "mimetype": "text/x-python",
   "name": "python",
   "nbconvert_exporter": "python",
   "pygments_lexer": "ipython3",
   "version": "3.8.10"
  }
 },
 "nbformat": 4,
 "nbformat_minor": 5
}
